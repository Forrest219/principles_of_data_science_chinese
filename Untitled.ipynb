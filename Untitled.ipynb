{
 "cells": [
  {
   "cell_type": "code",
   "execution_count": 23,
   "metadata": {
    "collapsed": false
   },
   "outputs": [],
   "source": [
    "from sklearn import datasets, metrics\n",
    "#import tensorflow as tf\n",
    "import numpy as np\n",
    "from sklearn.cross_validation import train_test_split\n",
    "%matplotlib inline"
   ]
  },
  {
   "cell_type": "code",
   "execution_count": 24,
   "metadata": {
    "collapsed": true
   },
   "outputs": [],
   "source": [
    "# Our data set of iris flowers\n",
    "iris = datasets.load_iris()\n",
    "\n",
    "# Load datasets and split them for training and testing\n",
    "X_train, X_test, y_train, y_test = train_test_split(iris.data, iris.target)"
   ]
  },
  {
   "cell_type": "code",
   "execution_count": 27,
   "metadata": {
    "collapsed": false
   },
   "outputs": [
    {
     "name": "stdout",
     "output_type": "stream",
     "text": [
      "0.973684210526\n"
     ]
    }
   ],
   "source": [
    "from sklearn.linear_model import LogisticRegression\n",
    "# compare our result above to a simple scikit-learn logistic regression\n",
    "\n",
    "logreg = LogisticRegression()\n",
    "# instantiate the model\n",
    "\n",
    "logreg.fit(X_train, y_train)\n",
    "# fit it to our training set\n",
    "\n",
    "y_predicted = logreg.predict(X_test)\n",
    "# predict on our test set, to avoid overfitting!\n",
    "\n",
    "accuracy = metrics.accuracy_score(y_predicted, y_test)\n",
    "# get our accuracy score\n",
    "\n",
    "print accuracy\n",
    "# It's the same thing!"
   ]
  }
 ],
 "metadata": {
  "kernelspec": {
   "display_name": "Python 2",
   "language": "python",
   "name": "python2"
  }
 },
 "nbformat": 4,
 "nbformat_minor": 2
}
