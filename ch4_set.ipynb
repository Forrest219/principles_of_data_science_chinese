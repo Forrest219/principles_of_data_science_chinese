{
 "cells": [
  {
   "cell_type": "code",
   "execution_count": 9,
   "metadata": {
    "collapsed": false
   },
   "outputs": [],
   "source": [
    "user1 = {\"Target\", \"Banana Republic\", \"Old Navy\"}\n",
    "user2 = {\"Banana Republic\", \"Gap\", \"Kohl's\"}"
   ]
  },
  {
   "cell_type": "code",
   "execution_count": 10,
   "metadata": {
    "collapsed": true
   },
   "outputs": [],
   "source": [
    "def jaccard(user1, user2):\n",
    "\tstores_in_common = len(user1 & user2)\n",
    "   \tstores_all_together = len(user1 | user2)\n",
    "   \treturn stores_in_common / float(stores_all_together)\n",
    "\n",
    "# I cast stores_all_together as a float to return a decimal answer instead of python’s \n",
    "# default integer division"
   ]
  },
  {
   "cell_type": "code",
   "execution_count": 11,
   "metadata": {
    "collapsed": false
   },
   "outputs": [
    {
     "data": {
      "text/plain": [
       "0.2"
      ]
     },
     "execution_count": 11,
     "metadata": {},
     "output_type": "execute_result"
    }
   ],
   "source": [
    "jaccard(user1, user2)\t# == 0.2 or 1/5"
   ]
  },
  {
   "cell_type": "code",
   "execution_count": 12,
   "metadata": {
    "collapsed": true
   },
   "outputs": [],
   "source": [
    "import numpy as np\n",
    "\n",
    "# create user preferences\n",
    "user_pref = np.array([5, 1, 3])\n",
    "\n",
    "# create a random movie matrix of 10,000 movies\n",
    "movies = np.random.randint(5,size=(3,1000))+1\n",
    "\n",
    "# Note that the randint will make random integers from 0-4\n",
    "# so I added a 1 at the end to increase the scale from 1-5\n"
   ]
  },
  {
   "cell_type": "code",
   "execution_count": 13,
   "metadata": {
    "collapsed": false
   },
   "outputs": [
    {
     "name": "stdout",
     "output_type": "stream",
     "text": [
      "(3L,)\n",
      "(3L, 1000L)\n"
     ]
    }
   ],
   "source": [
    "print user_pref.shape \t# (1, 3)\n",
    "print movies.shape    # (3, 1000)\n"
   ]
  },
  {
   "cell_type": "code",
   "execution_count": 15,
   "metadata": {
    "collapsed": false
   },
   "outputs": [
    {
     "name": "stdout",
     "output_type": "stream",
     "text": [
      "0.0 seconds to run 10000 movies\n",
      "0.0160000324249 seconds to run 100000 movies\n",
      "0.00799989700317 seconds to run 1000000 movies\n",
      "0.063000202179 seconds to run 10000000 movies\n",
      "0.631000041962 seconds to run 100000000 movies\n"
     ]
    }
   ],
   "source": [
    "import time     \n",
    "for i in (10000, 100000, 1000000, 10000000, 100000000):\n",
    "    movies = np.random.randint(5,size=(3,i))+1\n",
    "    now = time.time()\n",
    "    np.dot(user_pref, movies)\n",
    "    print (time.time() - now), \"seconds to run\", i, \"movies\""
   ]
  }
 ],
 "metadata": {
  "kernelspec": {
   "display_name": "Python 2",
   "language": "python",
   "name": "python2"
  },
  "language_info": {
   "codemirror_mode": {
    "name": "ipython",
    "version": 2
   },
   "file_extension": ".py",
   "mimetype": "text/x-python",
   "name": "python",
   "nbconvert_exporter": "python",
   "pygments_lexer": "ipython2",
   "version": "2.7.13"
  }
 },
 "nbformat": 4,
 "nbformat_minor": 2
}
