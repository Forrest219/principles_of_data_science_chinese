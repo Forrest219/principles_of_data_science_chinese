{
 "cells": [
  {
   "cell_type": "code",
   "execution_count": 106,
   "metadata": {
    "collapsed": true
   },
   "outputs": [],
   "source": [
    "import pandas as pd\n",
    "import numpy as np\n",
    "import scipy.stats as stats\n",
    "import matplotlib\n",
    "%matplotlib inline"
   ]
  },
  {
   "cell_type": "code",
   "execution_count": 107,
   "metadata": {
    "collapsed": true
   },
   "outputs": [],
   "source": [
    "long_breaks = stats.poisson.rvs(loc=10, mu=60, size=3000)"
   ]
  },
  {
   "cell_type": "code",
   "execution_count": 108,
   "metadata": {
    "collapsed": false
   },
   "outputs": [
    {
     "data": {
      "text/plain": [
       "<matplotlib.axes._subplots.AxesSubplot at 0xa29c0f0>"
      ]
     },
     "execution_count": 108,
     "metadata": {},
     "output_type": "execute_result"
    },
    {
     "data": {
      "image/png": "[encoded data removed]",
      "text/plain": [
       "<matplotlib.figure.Figure at 0xc5f5dd8>"
      ]
     },
     "metadata": {},
     "output_type": "display_data"
    }
   ],
   "source": [
    "pd.Series(long_breaks).hist()"
   ]
  },
  {
   "cell_type": "code",
   "execution_count": 109,
   "metadata": {
    "collapsed": true
   },
   "outputs": [],
   "source": [
    "short_breaks = stats.poisson.rvs(loc=10, mu=15, size=6000)"
   ]
  },
  {
   "cell_type": "code",
   "execution_count": 110,
   "metadata": {
    "collapsed": false
   },
   "outputs": [
    {
     "data": {
      "text/plain": [
       "<matplotlib.axes._subplots.AxesSubplot at 0xa46d0f0>"
      ]
     },
     "execution_count": 110,
     "metadata": {},
     "output_type": "execute_result"
    },
    {
     "data": {
      "image/png": "[encoded data removed]",
      "text/plain": [
       "<matplotlib.figure.Figure at 0xd1f3e80>"
      ]
     },
     "metadata": {},
     "output_type": "display_data"
    }
   ],
   "source": [
    "pd.Series(short_breaks).hist()"
   ]
  },
  {
   "cell_type": "code",
   "execution_count": 111,
   "metadata": {
    "collapsed": true
   },
   "outputs": [],
   "source": [
    "breaks = np.concatenate((long_breaks, short_breaks))"
   ]
  },
  {
   "cell_type": "code",
   "execution_count": 112,
   "metadata": {
    "collapsed": true
   },
   "outputs": [],
   "source": [
    "long_break_in_engineering = stats.poisson.rvs(loc=10, mu=55, size=100)\n",
    "short_break_in_engineering = stats.poisson.rvs(loc=10, mu=15, size=300)\n",
    "engineering_breaks = np.concatenate((long_break_in_engineering,\\\n",
    "                                     short_break_in_engineering))"
   ]
  },
  {
   "cell_type": "code",
   "execution_count": 113,
   "metadata": {
    "collapsed": false
   },
   "outputs": [
    {
     "name": "stdout",
     "output_type": "stream",
     "text": [
      "39.9091111111\n"
     ]
    }
   ],
   "source": [
    "print breaks.mean()\n",
    "# 39.99"
   ]
  },
  {
   "cell_type": "code",
   "execution_count": 114,
   "metadata": {
    "collapsed": false
   },
   "outputs": [
    {
     "data": {
      "text/plain": [
       "array([24, 20, 67, 20, 68, 30, 29, 25, 25, 26, 28, 21, 16, 24, 24, 28, 65,\n",
       "       24, 33, 56, 76, 31, 30, 22, 28, 26, 20, 29, 68, 21, 25, 28, 85, 25,\n",
       "       31, 19, 63, 36, 31, 23, 26, 26, 72, 25, 21, 25, 25, 25, 85, 27, 61,\n",
       "       25, 28, 60, 23, 77, 59, 21, 28, 23, 25, 21, 33, 25, 22, 26, 18, 83,\n",
       "       19, 66, 28, 73, 19, 65, 21, 26, 23, 67, 24, 70, 25, 26, 62, 64, 19,\n",
       "       75, 26, 26, 72, 18, 23, 27, 23, 65, 31, 27, 63, 25, 27, 28])"
      ]
     },
     "execution_count": 114,
     "metadata": {},
     "output_type": "execute_result"
    }
   ],
   "source": [
    "sample_breaks = np.random.choice(a = breaks, size=100)\n",
    "# taking a sample of 100 employees\n",
    "sample_breaks"
   ]
  },
  {
   "cell_type": "code",
   "execution_count": 115,
   "metadata": {
    "collapsed": false
   },
   "outputs": [
    {
     "data": {
      "text/plain": [
       "3.5291111111111064"
      ]
     },
     "execution_count": 115,
     "metadata": {},
     "output_type": "execute_result"
    }
   ],
   "source": [
    "breaks.mean() - sample_breaks.mean()\n",
    "# difference between means is 4.09 minutes, not \n"
   ]
  },
  {
   "cell_type": "code",
   "execution_count": 116,
   "metadata": {
    "collapsed": false
   },
   "outputs": [],
   "source": [
    "import random\n",
    "employee_races=([\"white\"]*2000)+([\"black\"]*1000)+([\"hispanic\"]*1000)\\\n",
    "+([\"asian\"]*3000)+([\"other\"]*3000)"
   ]
  },
  {
   "cell_type": "code",
   "execution_count": 117,
   "metadata": {
    "collapsed": false
   },
   "outputs": [
    {
     "name": "stdout",
     "output_type": "stream",
     "text": [
      "hispanic proportion estimate:\n",
      "0.104\n",
      "white proportion estimate:\n",
      "0.204\n",
      "other proportion estimate:\n",
      "0.286\n",
      "black proportion estimate:\n",
      "0.099\n",
      "asian proportion estimate:\n",
      "0.307\n"
     ]
    }
   ],
   "source": [
    "demo_sample = random.sample(employee_races, 1000)\n",
    "for race in set(demo_sample):\n",
    "    print(race + \" proportion estimate:\")\n",
    "    print(demo_sample.count(race)/1000.)\n"
   ]
  },
  {
   "cell_type": "code",
   "execution_count": 118,
   "metadata": {
    "collapsed": false
   },
   "outputs": [
    {
     "data": {
      "text/plain": [
       "array([[<matplotlib.axes._subplots.AxesSubplot object at 0x000000000A6F7828>]], dtype=object)"
      ]
     },
     "execution_count": 118,
     "metadata": {},
     "output_type": "execute_result"
    },
    {
     "data": {
      "image/png": "[encoded data removed]",
      "text/plain": [
       "<matplotlib.figure.Figure at 0xa703240>"
      ]
     },
     "metadata": {},
     "output_type": "display_data"
    }
   ],
   "source": [
    "pd.DataFrame(breaks).hist(bins=50,range=(5,100))"
   ]
  },
  {
   "cell_type": "code",
   "execution_count": 119,
   "metadata": {
    "collapsed": false
   },
   "outputs": [
    {
     "data": {
      "text/plain": [
       "array([[<matplotlib.axes._subplots.AxesSubplot object at 0x000000000AA455C0>]], dtype=object)"
      ]
     },
     "execution_count": 119,
     "metadata": {},
     "output_type": "execute_result"
    },
    {
     "data": {
      "image/png": "[encoded data removed]",
      "text/plain": [
       "<matplotlib.figure.Figure at 0xa9933c8>"
      ]
     },
     "metadata": {},
     "output_type": "display_data"
    }
   ],
   "source": [
    "point_estimates = []\n",
    "for x in range(500):         \t\t\t\t# Generate 500 samples\n",
    "    sample = np.random.choice(a= breaks, size=100) \n",
    "    #take a sample of 100 points\n",
    "    point_estimates.append( sample.mean() )\n",
    "    # add the sample mean to our list of point estimates\n",
    "    \n",
    "pd.DataFrame(point_estimates).hist()"
   ]
  },
  {
   "cell_type": "code",
   "execution_count": 120,
   "metadata": {
    "collapsed": false
   },
   "outputs": [
    {
     "data": {
      "text/plain": [
       "0.11247111111111252"
      ]
     },
     "execution_count": 120,
     "metadata": {},
     "output_type": "execute_result"
    }
   ],
   "source": [
    "breaks.mean() - np.array(point_estimates).mean()\n",
    "# 0.047 minutes difference"
   ]
  },
  {
   "cell_type": "code",
   "execution_count": 121,
   "metadata": {
    "collapsed": false
   },
   "outputs": [
    {
     "data": {
      "text/plain": [
       "(33.793180792346263, 42.066819207653737)"
      ]
     },
     "execution_count": 121,
     "metadata": {},
     "output_type": "execute_result"
    }
   ],
   "source": [
    "import math\n",
    "sample_size = 100\n",
    "# the size of the sample we wish to tabke\n",
    "\n",
    "sample = np.random.choice(a= breaks, size = sample_size)\n",
    "# a sample of sample_size taken from the 9000 breaks population from before\n",
    "\n",
    "sample_mean = sample.mean()\n",
    "# the sample mean of lengths sample\n",
    "\n",
    "sample_stdev = sample.std()    \n",
    "# sample standard deviation\n",
    "\n",
    "sigma = sample_stdev/math.sqrt(sample_size)  \n",
    "# population Standard deviation estimate\n",
    "\n",
    "stats.t.interval(alpha = 0.95,              \t\t# Confidence level\n",
    "                 df= sample_size - 1,       \t# Degrees of freedom\n",
    "                 loc = sample_mean,          # Sample mean\n",
    "                 scale = sigma)               # Standard deviation estimate\n",
    "# (36.36, 45.44)\n"
   ]
  },
  {
   "cell_type": "code",
   "execution_count": 128,
   "metadata": {
    "collapsed": true
   },
   "outputs": [],
   "source": [
    "# function to make confidence interval\n",
    "def makeConfidenceInterval():\n",
    "    sample_size = 100\n",
    "    sample = np.random.choice(a= breaks, size = sample_size)\n",
    "    sample_mean = sample.mean()\n",
    "    # sample mean\n",
    "\n",
    "    sample_stdev = sample.std()    \n",
    "    # sample standard deviation\n",
    "\n",
    "    sigma = sample_stdev/math.sqrt(sample_size)  \n",
    "    # population Standard deviation estimate\n",
    "\n",
    "    return stats.t.interval(alpha = 0.95, df= sample_size - 1, loc = sample_mean, scale = sigma)\n"
   ]
  },
  {
   "cell_type": "code",
   "execution_count": 129,
   "metadata": {
    "collapsed": false
   },
   "outputs": [
    {
     "name": "stdout",
     "output_type": "stream",
     "text": [
      "0.9471\n"
     ]
    }
   ],
   "source": [
    "times_in_interval = 0.\n",
    "for i in range(10000):\n",
    "    interval = makeConfidenceInterval()\n",
    "    if 39.99 >= interval[0] and 39.99 <= interval[1]:\n",
    "    # if 39.99 falls in the interval\n",
    "        times_in_interval += 1\n",
    "\n",
    "print times_in_interval / 10000\n"
   ]
  },
  {
   "cell_type": "code",
   "execution_count": 130,
   "metadata": {
    "collapsed": false
   },
   "outputs": [
    {
     "name": "stdout",
     "output_type": "stream",
     "text": [
      "confidence 0.5 has a interval of size 2.82\n",
      "confidence 0.8 has a interval of size 5.38\n",
      "confidence 0.85 has a interval of size 6.05\n",
      "confidence 0.9 has a interval of size 6.92\n",
      "confidence 0.95 has a interval of size 8.27\n",
      "confidence 0.99 has a interval of size 10.95\n"
     ]
    }
   ],
   "source": [
    "for confidence in (0.5, 0.8, 0.85, 0.9, 0.95, 0.99):\n",
    "\tconfidence_interval = stats.t.interval(alpha = confidence, df = sample_size -1, loc = sample_mean, scale = sigma)\n",
    "\tlength_of_interval = round(confidence_interval[1] - confidence_interval[0], 2)\n",
    "\t# the length of the confidence interval\n",
    "\tprint \"confidence {0} has a interval of size {1}\".format(confidence, length_of_interval)\n"
   ]
  },
  {
   "cell_type": "code",
   "execution_count": 122,
   "metadata": {
    "collapsed": false
   },
   "outputs": [
    {
     "name": "stdout",
     "output_type": "stream",
     "text": [
      "35.2325\n"
     ]
    }
   ],
   "source": [
    "print engineering_breaks.mean()\n",
    "#34.825"
   ]
  },
  {
   "cell_type": "code",
   "execution_count": 123,
   "metadata": {
    "collapsed": true
   },
   "outputs": [],
   "source": [
    "t_statistic, p_value = stats.ttest_1samp(a= engineering_breaks, popmean= breaks.mean())"
   ]
  },
  {
   "cell_type": "code",
   "execution_count": 124,
   "metadata": {
    "collapsed": false
   },
   "outputs": [
    {
     "data": {
      "text/plain": [
       "-5.0441437866266652"
      ]
     },
     "execution_count": 124,
     "metadata": {},
     "output_type": "execute_result"
    }
   ],
   "source": [
    "t_statistic"
   ]
  },
  {
   "cell_type": "code",
   "execution_count": null,
   "metadata": {
    "collapsed": true
   },
   "outputs": [],
   "source": []
  },
  {
   "cell_type": "code",
   "execution_count": 125,
   "metadata": {
    "collapsed": false
   },
   "outputs": [
    {
     "data": {
      "text/plain": [
       "6.930569702547211e-07"
      ]
     },
     "execution_count": 125,
     "metadata": {},
     "output_type": "execute_result"
    }
   ],
   "source": [
    "float(p_value)"
   ]
  },
  {
   "cell_type": "code",
   "execution_count": 126,
   "metadata": {
    "collapsed": false
   },
   "outputs": [
    {
     "data": {
      "text/plain": [
       "(30.1817679275599, 1.26374310311106e-06)"
      ]
     },
     "execution_count": 126,
     "metadata": {},
     "output_type": "execute_result"
    }
   ],
   "source": [
    "observed = [102, 178, 186, 34]\n",
    "expected = [156, 165.5, 147, 31.5]\n",
    "chi_squared, p_value = stats.chisquare(f_obs= observed, f_exp= expected)\n",
    "\n",
    "chi_squared, p_value\n",
    "# (30.1817679275599, 1.26374310311106e-06)\n"
   ]
  },
  {
   "cell_type": "code",
   "execution_count": 127,
   "metadata": {
    "collapsed": false
   },
   "outputs": [
    {
     "data": {
      "text/plain": [
       "(0.04762692369491045, 0.82724528704422262)"
      ]
     },
     "execution_count": 127,
     "metadata": {},
     "output_type": "execute_result"
    }
   ],
   "source": [
    "observed = np.array([[134, 54],[110, 48]])\n",
    "# built a 2X2 matrix as seen in the table above\n",
    "\n",
    "chi_squared, p_value, degrees_of_freedom, matrix = stats.chi2_contingency(observed\n",
    "= observed)\n",
    "\n",
    "chi_squared, p_value\n",
    "# (0.04762692369491045, 0.82724528704422262)\n"
   ]
  }
 ],
 "metadata": {
  "kernelspec": {
   "display_name": "Python 2",
   "language": "python",
   "name": "python2"
  },
  "language_info": {
   "codemirror_mode": {
    "name": "ipython",
    "version": 2
   },
   "file_extension": ".py",
   "mimetype": "text/x-python",
   "name": "python",
   "nbconvert_exporter": "python",
   "pygments_lexer": "ipython2",
   "version": "2.7.13"
  }
 },
 "nbformat": 4,
 "nbformat_minor": 2
}
