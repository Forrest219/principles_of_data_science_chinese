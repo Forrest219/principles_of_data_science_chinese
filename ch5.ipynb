{
 "cells": [
  {
   "cell_type": "code",
   "execution_count": 1,
   "metadata": {
    "collapsed": false
   },
   "outputs": [
    {
     "name": "stdout",
     "output_type": "stream",
     "text": [
      "   means\n",
      "0    5.0\n",
      "1    6.0\n",
      "2    4.0\n",
      "3    2.5\n",
      "4    6.8\n"
     ]
    }
   ],
   "source": [
    "import numpy as np\n",
    "import pandas as pd\n",
    "from matplotlib import pyplot as plt\n",
    "%matplotlib inline"
   ]
  },
  {
   "cell_type": "code",
   "execution_count": 4,
   "metadata": {
    "collapsed": false
   },
   "outputs": [
    {
     "data": {
      "text/plain": [
       "9999"
      ]
     },
     "execution_count": 4,
     "metadata": {},
     "output_type": "execute_result"
    }
   ],
   "source": [
    "results = []\n",
    "for n in range(1,10000):\n",
    "    nums = np.random.randint(low=1,high=10, size=n)\t\n",
    "# choose n numbers between 1 and 10\n",
    "    mean = nums.mean()\t\t# find the average of these numbers\n",
    "    results.append(mean)\t\t# add the average to a running list\n",
    "\n",
    "# POP QUIZ: low large is the list results?\n",
    "len(results) \n",
    "# This was tricky because i took the range from 1 to 10000 and usually we do from \n",
    "# 0 to 10000"
   ]
  },
  {
   "cell_type": "code",
   "execution_count": 5,
   "metadata": {
    "collapsed": false
   },
   "outputs": [
    {
     "name": "stdout",
     "output_type": "stream",
     "text": [
      "      means\n",
      "0  3.000000\n",
      "1  8.500000\n",
      "2  3.333333\n",
      "3  5.250000\n",
      "4  5.800000\n"
     ]
    }
   ],
   "source": [
    "f = pd.DataFrame({ 'means' : results})\n",
    "print df.head()\t\t\t\t\t# the averages in the beginning are all over the place!"
   ]
  },
  {
   "cell_type": "code",
   "execution_count": 6,
   "metadata": {
    "collapsed": false
   },
   "outputs": [
    {
     "name": "stdout",
     "output_type": "stream",
     "text": [
      "         means\n",
      "9994  5.027514\n",
      "9995  4.953882\n",
      "9996  5.007802\n",
      "9997  5.054311\n",
      "9998  4.962596\n"
     ]
    }
   ],
   "source": [
    "print df.tail()"
   ]
  }
 ],
 "metadata": {
  "kernelspec": {
   "display_name": "Python 2",
   "language": "python",
   "name": "python2"
  },
  "language_info": {
   "codemirror_mode": {
    "name": "ipython",
    "version": 2
   },
   "file_extension": ".py",
   "mimetype": "text/x-python",
   "name": "python",
   "nbconvert_exporter": "python",
   "pygments_lexer": "ipython2",
   "version": "2.7.13"
  }
 },
 "nbformat": 4,
 "nbformat_minor": 2
}
